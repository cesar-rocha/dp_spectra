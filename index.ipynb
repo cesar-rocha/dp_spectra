{
 "cells": [
  {
   "cell_type": "markdown",
   "metadata": {},
   "source": [
    "# Supplementary material for \"Mesoscale to submesoscale wavenumber spectra in Drake Passage\" (in prep. for JPO)\n",
    "## C. B. Rocha*, T. K. Chereskin, S. T. Gille, and D. Menemenlis \n",
    "\n",
    "*Scripps Institution of Oceanography, University of California, San Diego | <crocha@ucsd.edu> | "
   ]
  },
  {
   "cell_type": "markdown",
   "metadata": {},
   "source": [
    "\n"
   ]
  },
  {
   "cell_type": "markdown",
   "metadata": {},
   "source": [
    "# Dataset"
   ]
  },
  {
   "cell_type": "markdown",
   "metadata": {},
   "source": [
    "\n",
    "### ADCP data\n",
    "\n",
    "\n",
    "\n",
    "* The LMG ADCP data is openly available on the [online inventory](http://ilikai.soest.hawaii.edu/wadcp/index.html) of  the Joint Archive for Shipboard ADCP.\n",
    "\n",
    "In this project, we used the following files\n",
    "* [Matlab files](https://www.dropbox.com/sh/h2zpewyzu5vafuj/AADE7nmnVX37tEei9nLtLGZ5a/lg_adcp_mat.zip?dl=0) (.mat)\n",
    "* [Python files](https://www.dropbox.com/sh/h2zpewyzu5vafuj/AABjZhnuPYTdhrfnAx6Jb0yda/lg_adcp_py.zip?dl=0) (.npz) converted from matfiles\n",
    "\n",
    "### Altimeter data\n",
    "\n",
    "The AltiKa altimeter dataset is produced and distributed by [AVISO](http://www.aviso.altimetry.fr/en/home.html), as part of the Ssalto ground processing segment. The data  are openly available for research purposes.\n",
    "\n",
    "### llc 4320 simulation in Drake Passage\n",
    "The [MITgcm](http://mitgcm.org) is an open-source and free software. Control files for the llc simulations are openly available at the [MITgcm repository](http://mitgcm.org/viewvc/MITgcm/MITgcm_contrib/llc_hires). \n",
    "\n",
    "Unfortunately we do not have the bandwidth to host all the gigantic model outputs. Here we share only hourly data for surface velocity and SSH in Drake Passage. This contain the enough information to verify our most fundamental result that signigicant fraction of the surface KE and SSH variance is accounted for unbalanced rapidly-evolving flows. \n",
    "\n",
    "* [SSH](https://www.dropbox.com/sh/h2zpewyzu5vafuj/AAD1Zw3K2v_Et1mmJoHfC-7Ga/llc4320_eta?dl=0) (**Warning: 4.4 G)\n",
    "* [Surface velocity](https://www.dropbox.com/sh/h2zpewyzu5vafuj/AAAwf5czAHgrkLhO_NwwEjtja/llc4320_uv?dl=0) (**Warning: 9.8 G)\n",
    "\n",
    "\n",
    "Please contact [Dimitris Menemenlis](mailto:Dimitris.Menemenlis@jpl.nasa.gov) if you are interested in other fields or in the global llc 4320 output."
   ]
  },
  {
   "cell_type": "markdown",
   "metadata": {},
   "source": [
    "# Data processing and plotting scripts"
   ]
  },
  {
   "cell_type": "markdown",
   "metadata": {},
   "source": [
    "* A collection of [Python functions](https://github.com/crocha700/dp_spectra/tree/master/src) developed for data processing and spectral analysis\n",
    "\n",
    "* [**pyspec**](https://github.com/crocha700/pyspec): a legitimate Python package for spectral analysis.\n",
    "\n",
    "* An IPython [notebook](http://nbviewer.ipython.org/github/crocha700/dp_spectra/blob/master/adcp/plot_mean_var.ipynb) plotting mean velocity and KE energy from ADCP data.\n",
    "\n",
    "* An IPython [notebook](http://nbviewer.ipython.org/github/crocha700/dp_spectra/blob/master/altimeter/plot_altimeter_tracks.ipynb) that plots the AltiKa sub-transects in Drake Passage.\n",
    "\n",
    "* An IPython [notebook](http://nbviewer.ipython.org/github/crocha700/dp_spectra/blob/master/model/plot_snapshot_model.ipynb) that computes and plots snapshots of surface speed and vorticity.\n",
    "\n",
    "* An IPython [notebook](http://nbviewer.ipython.org/github/crocha700/dp_spectra/blob/master/adcp/plot_adcp_spectra.ipynb) that plots ADCP spectra.\n",
    "\n",
    "* An IPython [notebook](http://nbviewer.ipython.org/github/crocha700/dp_spectra/blob/master/altimeter/plot_spectra_altika.ipynb) that plots the altimeter spectra.\n",
    "\n",
    "* An IPython [notebook](http://nbviewer.ipython.org/github/crocha700/dp_spectra/blob/master/model/plot_model_spectra.ipynb) that plots 1D model spectra.\n",
    "\n",
    "* An IPython [notebook](http://nbviewer.ipython.org/github/crocha700/dp_spectra/blob/master/model/plot_isotropic_spectra.ipynb) that plots isotropic model spectra.\n",
    "\n",
    "* An IPython [notebook](http://nbviewer.ipython.org/github/crocha700/dp_spectra/blob/master/cdrake/sqg_spectrum_cdrake.ipynb) that computes SQG solutions and plots SQG spectra at various depths.\n",
    "\n"
   ]
  },
  {
   "cell_type": "markdown",
   "metadata": {},
   "source": [
    "# Outputs"
   ]
  },
  {
   "cell_type": "markdown",
   "metadata": {},
   "source": [
    "* [Python files](https://www.dropbox.com/sh/h2zpewyzu5vafuj/AACGnmJXhOx4SgAvUCU_Q0-Za/outputs/adcp?dl=0) with ADCP spectra.\n",
    "* [ASCII files](https://www.dropbox.com/s/f3flrivnhezivvt/spec_altika_dp.dat?dl=0) with AltiKa spectra.\n",
    "* [Python files](https://www.dropbox.com/sh/h2zpewyzu5vafuj/AACrze3odYneQ6WOrtnvJ4Rda/outputs/model?dl=0) with model spectra.\n",
    "\n",
    "E-mail [Cesar Rocha](mailto:crocha@ucsd.edu) for queries or other formats."
   ]
  },
  {
   "cell_type": "code",
   "execution_count": null,
   "metadata": {
    "collapsed": true
   },
   "outputs": [],
   "source": []
  }
 ],
 "metadata": {
  "kernelspec": {
   "display_name": "Python 2",
   "language": "python",
   "name": "python2"
  },
  "language_info": {
   "codemirror_mode": {
    "name": "ipython",
    "version": 2
   },
   "file_extension": ".py",
   "mimetype": "text/x-python",
   "name": "python",
   "nbconvert_exporter": "python",
   "pygments_lexer": "ipython2",
   "version": "2.7.9"
  }
 },
 "nbformat": 4,
 "nbformat_minor": 0
}
