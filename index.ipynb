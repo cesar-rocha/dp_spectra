{
 "cells": [
  {
   "cell_type": "markdown",
   "metadata": {},
   "source": [
    "# Supplementary materia for \"Mesoscale to submesocale wavenumber spectra in Drake Passage\" (*in prep.*)\n",
    "\n"
   ]
  },
  {
   "cell_type": "markdown",
   "metadata": {},
   "source": [
    "\n"
   ]
  },
  {
   "cell_type": "markdown",
   "metadata": {},
   "source": [
    "# Dataset"
   ]
  },
  {
   "cell_type": "markdown",
   "metadata": {},
   "source": [
    "\n",
    "### ADCP data\n",
    "\n",
    "**MUST include who is to be acknowledged, grants, etc.\n",
    "\n",
    "* Matlab files (.mat)\n",
    "* Python files (.npz) converted from matfiles\n",
    "* ADCP data at ... database\n",
    "\n",
    "\n",
    "### llc 4320 simulation in Drake Passage\n",
    "* SSH (**Warning: 4.4 G)\n",
    "* Surface velocity (**Warning: 10 G)"
   ]
  },
  {
   "cell_type": "markdown",
   "metadata": {},
   "source": [
    "# Data processing and plotting scripts"
   ]
  },
  {
   "cell_type": "markdown",
   "metadata": {},
   "source": [
    "* A collection of Python functions developed for data processing and spectral analysis\n",
    "\n",
    "* A legitimate Python package coded for spectral analysis.\n",
    "\n",
    "* An IPython [notebook](./) plotting mean velocity and KE energy from ADCP data.\n",
    "\n",
    "* An IPython [notebook](./) that computes and plots model surface vorticity.\n",
    "\n",
    "* An IPython [notebook](./) that plots ADCP spectra.\n",
    "\n",
    "* An IPython [notebook](./) that plots model spectra.\n"
   ]
  },
  {
   "cell_type": "markdown",
   "metadata": {},
   "source": [
    "# Outputs\n",
    "E-mail [Cesar Rocha](crocha@ucsd.edu) for other formats."
   ]
  },
  {
   "cell_type": "markdown",
   "metadata": {},
   "source": [
    "* Python files with ADCP spectral in three layers.\n",
    "* Python files with 1D model spectra in three layers.\n",
    "* Python files with isotropic model spectra at the surface and at 1000 m."
   ]
  },
  {
   "cell_type": "code",
   "execution_count": null,
   "metadata": {
    "collapsed": true
   },
   "outputs": [],
   "source": []
  }
 ],
 "metadata": {
  "kernelspec": {
   "display_name": "Python 2",
   "language": "python",
   "name": "python2"
  },
  "language_info": {
   "codemirror_mode": {
    "name": "ipython",
    "version": 2
   },
   "file_extension": ".py",
   "mimetype": "text/x-python",
   "name": "python",
   "nbconvert_exporter": "python",
   "pygments_lexer": "ipython2",
   "version": "2.7.9"
  }
 },
 "nbformat": 4,
 "nbformat_minor": 0
}
